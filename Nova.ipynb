{
 "cells": [
  {
   "cell_type": "markdown",
   "metadata": {},
   "source": [
    "# Nova\n"
   ]
  },
  {
   "cell_type": "code",
   "execution_count": 15,
   "metadata": {},
   "outputs": [],
   "source": [
    "# imports\n",
    "import openai                       # pip install openai\n",
    "import pyttsx3                      # pip install pyttsx3\n",
    "from dotenv import load_dotenv      # pip install python-dotenv\n",
    "import speech_recognition as sr     # pip install SpeechRecognition\n",
    "import requests as req\n",
    "import json"
   ]
  },
  {
   "cell_type": "code",
   "execution_count": null,
   "metadata": {},
   "outputs": [],
   "source": [
    "load_dotenv()"
   ]
  },
  {
   "cell_type": "code",
   "execution_count": 17,
   "metadata": {},
   "outputs": [],
   "source": [
    "def SpeakText(command):\n",
    "    # Initialize the engine\n",
    "    engine = pyttsx3.init()\n",
    "\n",
    "    # Get the available voices\n",
    "    voices = engine.getProperty('voices')\n",
    "\n",
    "    # Select the female voice (index 1)\n",
    "    engine.setProperty('voice', voices[2].id)\n",
    "\n",
    "    # Say the command\n",
    "    engine.say(command)\n",
    "    engine.runAndWait()"
   ]
  },
  {
   "cell_type": "code",
   "execution_count": 18,
   "metadata": {},
   "outputs": [],
   "source": [
    "# Initialize the recognizer\n",
    "r = sr.Recognizer()"
   ]
  },
  {
   "cell_type": "code",
   "execution_count": 19,
   "metadata": {},
   "outputs": [],
   "source": [
    "def record_text():\n",
    "# loop in case of errors\n",
    "    while 1:\n",
    "        try:\n",
    "            # Microphone = Input\n",
    "            with sr.Microphone() as source2:\n",
    "\n",
    "                # Prepare to get input\n",
    "                r.adjust_for_ambient_noise(source2, duration=0.2)\n",
    "\n",
    "                print('Talk to me I\\'m listening')\n",
    "\n",
    "                # Listens for user's input\n",
    "                audio2 = r.listen(source2)\n",
    "\n",
    "                # Use google to recognize audio\n",
    "                MyText = r.recognize_google(audio2)\n",
    "\n",
    "                return MyText\n",
    "        \n",
    "        except sr.RequestError as e:\n",
    "            print('Couldn\\'nt request results; {0}'.format(e))\n",
    "        \n",
    "        except sr.UnknownValueError:\n",
    "            print('unknown error occurred')"
   ]
  },
  {
   "cell_type": "code",
   "execution_count": 20,
   "metadata": {},
   "outputs": [],
   "source": [
    "def send_to_chatGPT(messages):\n",
    "    soal = str(messages)  # Convert messages list to a string\n",
    "\n",
    "    chatgpt = \"https://one-api.ir/chatgpt/?token=843530:657815b9d8c49&action=gpt3.5-turbo&q=\" + soal\n",
    "\n",
    "    res = req.get(chatgpt)\n",
    "\n",
    "    javab = res.json()\n",
    "\n",
    "    message = javab['result'][0]\n",
    "    messages.append(message)\n",
    "    return message"
   ]
  },
  {
   "cell_type": "code",
   "execution_count": null,
   "metadata": {},
   "outputs": [],
   "source": [
    "text2 = 'You are Nova , you are her to assist me in various aspects of my day-to-day life: '\n",
    "messages = [{'role': 'user', 'content': text2}]\n",
    "\n",
    "while 1:\n",
    "    text = record_text()\n",
    "    print('user:', text)\n",
    "    messages.append({'role': 'user', 'content': text})\n",
    "    response = send_to_chatGPT(messages)\n",
    "    print('Nova:', response)\n",
    "    SpeakText(response)\n",
    "    \n",
    "    if 'thank you' in text.lower():\n",
    "        break"
   ]
  },
  {
   "cell_type": "code",
   "execution_count": null,
   "metadata": {},
   "outputs": [],
   "source": []
  }
 ],
 "metadata": {
  "kernelspec": {
   "display_name": "Python 3",
   "language": "python",
   "name": "python3"
  },
  "language_info": {
   "codemirror_mode": {
    "name": "ipython",
    "version": 3
   },
   "file_extension": ".py",
   "mimetype": "text/x-python",
   "name": "python",
   "nbconvert_exporter": "python",
   "pygments_lexer": "ipython3",
   "version": "3.8.8"
  },
  "orig_nbformat": 4
 },
 "nbformat": 4,
 "nbformat_minor": 2
}
